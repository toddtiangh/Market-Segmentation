{
 "cells": [
  {
   "cell_type": "markdown",
   "metadata": {
    "id": "nzsNgzYZS9Ua"
   },
   "source": [
    "#BA476 Practical Assignment 2 -  K-Means Clustering for Market Segmentation"
   ]
  },
  {
   "cell_type": "markdown",
   "metadata": {
    "id": "BPuvWpwKTYD6"
   },
   "source": [
    "The purpose of this assignment is to use K-Means Clustering to better understand customer behavior. In this assignment, we are taking a look at transaction data for a large e-Commerce company and trying to convert that transaction information into customer-level data for actionable insights. The goal of this assignment is to perform market segmentation based on purchase behaviour. \n",
    "\n",
    "We will use Pandas to manipulate dataframes, Scikit-learn to create the clusters, and Matplotlib for visualization. The deliverable for this assignment is  a PDF file that you will produce by converting your notebook to html and then printing the html page (as in PA1). As a reminder your notebook should contain all the code you used to generate your results – be sure to try writing concise code and comment out what you're doing to explain the code. Submit your PDF file on gradescope when you're done. \n",
    "\n",
    "A skeleton is provided to get you started. Good luck!"
   ]
  },
  {
   "cell_type": "markdown",
   "metadata": {
    "id": "_-ZJzE29UDTk"
   },
   "source": [
    "## Importing and cleaning data\n",
    "\n",
    "Get started by importing the necessary packages and  importing the dataset. "
   ]
  },
  {
   "cell_type": "code",
   "execution_count": 332,
   "metadata": {
    "id": "iSHPRIgk68AC"
   },
   "outputs": [],
   "source": [
    "# DO NOT EDIT THIS BLOCK OF CODE\n",
    "import pandas as pd\n",
    "import numpy as np\n",
    "import matplotlib.pyplot as plt\n",
    "from sklearn import cluster\n",
    "from sklearn.cluster import KMeans\n",
    "\n",
    "#Create the initial dataframe from the UCI repository\n",
    "df = pd.read_excel(\"Online Retail.xlsx\")\n",
    "df_copy = df.copy()"
   ]
  },
  {
   "cell_type": "markdown",
   "metadata": {
    "id": "EMP8wcc2hr4l"
   },
   "source": [
    "Inspect the dataframe to understand the columns and rows. We have around half a million rows, end each row corresponds to  an item purchased by some customer. Notably, a row is *not* a transaction, you'll notice several rows share the same invoice number. "
   ]
  },
  {
   "cell_type": "code",
   "execution_count": 334,
   "metadata": {
    "colab": {
     "base_uri": "https://localhost:8080/",
     "height": 598
    },
    "id": "o-4QpBKa7eXx",
    "outputId": "64c487f9-ff7e-4c5c-ed27-8752b2d3382d"
   },
   "outputs": [
    {
     "name": "stdout",
     "output_type": "stream",
     "text": [
      "(541909, 8)\n"
     ]
    },
    {
     "data": {
      "text/html": [
       "<div>\n",
       "<style scoped>\n",
       "    .dataframe tbody tr th:only-of-type {\n",
       "        vertical-align: middle;\n",
       "    }\n",
       "\n",
       "    .dataframe tbody tr th {\n",
       "        vertical-align: top;\n",
       "    }\n",
       "\n",
       "    .dataframe thead th {\n",
       "        text-align: right;\n",
       "    }\n",
       "</style>\n",
       "<table border=\"1\" class=\"dataframe\">\n",
       "  <thead>\n",
       "    <tr style=\"text-align: right;\">\n",
       "      <th></th>\n",
       "      <th>InvoiceNo</th>\n",
       "      <th>StockCode</th>\n",
       "      <th>Description</th>\n",
       "      <th>Quantity</th>\n",
       "      <th>InvoiceDate</th>\n",
       "      <th>UnitPrice</th>\n",
       "      <th>CustomerID</th>\n",
       "      <th>Country</th>\n",
       "    </tr>\n",
       "  </thead>\n",
       "  <tbody>\n",
       "    <tr>\n",
       "      <th>0</th>\n",
       "      <td>536365</td>\n",
       "      <td>85123A</td>\n",
       "      <td>WHITE HANGING HEART T-LIGHT HOLDER</td>\n",
       "      <td>6</td>\n",
       "      <td>2010-12-01 08:26:00</td>\n",
       "      <td>2.55</td>\n",
       "      <td>17850.0</td>\n",
       "      <td>United Kingdom</td>\n",
       "    </tr>\n",
       "    <tr>\n",
       "      <th>1</th>\n",
       "      <td>536365</td>\n",
       "      <td>71053</td>\n",
       "      <td>WHITE METAL LANTERN</td>\n",
       "      <td>6</td>\n",
       "      <td>2010-12-01 08:26:00</td>\n",
       "      <td>3.39</td>\n",
       "      <td>17850.0</td>\n",
       "      <td>United Kingdom</td>\n",
       "    </tr>\n",
       "    <tr>\n",
       "      <th>2</th>\n",
       "      <td>536365</td>\n",
       "      <td>84406B</td>\n",
       "      <td>CREAM CUPID HEARTS COAT HANGER</td>\n",
       "      <td>8</td>\n",
       "      <td>2010-12-01 08:26:00</td>\n",
       "      <td>2.75</td>\n",
       "      <td>17850.0</td>\n",
       "      <td>United Kingdom</td>\n",
       "    </tr>\n",
       "    <tr>\n",
       "      <th>3</th>\n",
       "      <td>536365</td>\n",
       "      <td>84029G</td>\n",
       "      <td>KNITTED UNION FLAG HOT WATER BOTTLE</td>\n",
       "      <td>6</td>\n",
       "      <td>2010-12-01 08:26:00</td>\n",
       "      <td>3.39</td>\n",
       "      <td>17850.0</td>\n",
       "      <td>United Kingdom</td>\n",
       "    </tr>\n",
       "    <tr>\n",
       "      <th>4</th>\n",
       "      <td>536365</td>\n",
       "      <td>84029E</td>\n",
       "      <td>RED WOOLLY HOTTIE WHITE HEART.</td>\n",
       "      <td>6</td>\n",
       "      <td>2010-12-01 08:26:00</td>\n",
       "      <td>3.39</td>\n",
       "      <td>17850.0</td>\n",
       "      <td>United Kingdom</td>\n",
       "    </tr>\n",
       "    <tr>\n",
       "      <th>5</th>\n",
       "      <td>536365</td>\n",
       "      <td>22752</td>\n",
       "      <td>SET 7 BABUSHKA NESTING BOXES</td>\n",
       "      <td>2</td>\n",
       "      <td>2010-12-01 08:26:00</td>\n",
       "      <td>7.65</td>\n",
       "      <td>17850.0</td>\n",
       "      <td>United Kingdom</td>\n",
       "    </tr>\n",
       "    <tr>\n",
       "      <th>6</th>\n",
       "      <td>536365</td>\n",
       "      <td>21730</td>\n",
       "      <td>GLASS STAR FROSTED T-LIGHT HOLDER</td>\n",
       "      <td>6</td>\n",
       "      <td>2010-12-01 08:26:00</td>\n",
       "      <td>4.25</td>\n",
       "      <td>17850.0</td>\n",
       "      <td>United Kingdom</td>\n",
       "    </tr>\n",
       "    <tr>\n",
       "      <th>7</th>\n",
       "      <td>536366</td>\n",
       "      <td>22633</td>\n",
       "      <td>HAND WARMER UNION JACK</td>\n",
       "      <td>6</td>\n",
       "      <td>2010-12-01 08:28:00</td>\n",
       "      <td>1.85</td>\n",
       "      <td>17850.0</td>\n",
       "      <td>United Kingdom</td>\n",
       "    </tr>\n",
       "    <tr>\n",
       "      <th>8</th>\n",
       "      <td>536366</td>\n",
       "      <td>22632</td>\n",
       "      <td>HAND WARMER RED POLKA DOT</td>\n",
       "      <td>6</td>\n",
       "      <td>2010-12-01 08:28:00</td>\n",
       "      <td>1.85</td>\n",
       "      <td>17850.0</td>\n",
       "      <td>United Kingdom</td>\n",
       "    </tr>\n",
       "    <tr>\n",
       "      <th>9</th>\n",
       "      <td>536367</td>\n",
       "      <td>84879</td>\n",
       "      <td>ASSORTED COLOUR BIRD ORNAMENT</td>\n",
       "      <td>32</td>\n",
       "      <td>2010-12-01 08:34:00</td>\n",
       "      <td>1.69</td>\n",
       "      <td>13047.0</td>\n",
       "      <td>United Kingdom</td>\n",
       "    </tr>\n",
       "  </tbody>\n",
       "</table>\n",
       "</div>"
      ],
      "text/plain": [
       "  InvoiceNo StockCode                          Description  Quantity  \\\n",
       "0    536365    85123A   WHITE HANGING HEART T-LIGHT HOLDER         6   \n",
       "1    536365     71053                  WHITE METAL LANTERN         6   \n",
       "2    536365    84406B       CREAM CUPID HEARTS COAT HANGER         8   \n",
       "3    536365    84029G  KNITTED UNION FLAG HOT WATER BOTTLE         6   \n",
       "4    536365    84029E       RED WOOLLY HOTTIE WHITE HEART.         6   \n",
       "5    536365     22752         SET 7 BABUSHKA NESTING BOXES         2   \n",
       "6    536365     21730    GLASS STAR FROSTED T-LIGHT HOLDER         6   \n",
       "7    536366     22633               HAND WARMER UNION JACK         6   \n",
       "8    536366     22632            HAND WARMER RED POLKA DOT         6   \n",
       "9    536367     84879        ASSORTED COLOUR BIRD ORNAMENT        32   \n",
       "\n",
       "          InvoiceDate  UnitPrice  CustomerID         Country  \n",
       "0 2010-12-01 08:26:00       2.55     17850.0  United Kingdom  \n",
       "1 2010-12-01 08:26:00       3.39     17850.0  United Kingdom  \n",
       "2 2010-12-01 08:26:00       2.75     17850.0  United Kingdom  \n",
       "3 2010-12-01 08:26:00       3.39     17850.0  United Kingdom  \n",
       "4 2010-12-01 08:26:00       3.39     17850.0  United Kingdom  \n",
       "5 2010-12-01 08:26:00       7.65     17850.0  United Kingdom  \n",
       "6 2010-12-01 08:26:00       4.25     17850.0  United Kingdom  \n",
       "7 2010-12-01 08:28:00       1.85     17850.0  United Kingdom  \n",
       "8 2010-12-01 08:28:00       1.85     17850.0  United Kingdom  \n",
       "9 2010-12-01 08:34:00       1.69     13047.0  United Kingdom  "
      ]
     },
     "execution_count": 334,
     "metadata": {},
     "output_type": "execute_result"
    }
   ],
   "source": [
    "print(df.shape)\n",
    "df.head(10)"
   ]
  },
  {
   "cell_type": "markdown",
   "metadata": {
    "id": "u4TBpB3mVxg1"
   },
   "source": [
    "Check the dataframe for null entries in each column."
   ]
  },
  {
   "cell_type": "code",
   "execution_count": 335,
   "metadata": {
    "colab": {
     "base_uri": "https://localhost:8080/"
    },
    "id": "w8V6e3yaiJiL",
    "outputId": "41196ec7-8a2a-4391-df9e-022fcec9f2eb"
   },
   "outputs": [
    {
     "data": {
      "text/plain": [
       "InvoiceNo           0\n",
       "StockCode           0\n",
       "Description      1454\n",
       "Quantity            0\n",
       "InvoiceDate         0\n",
       "UnitPrice           0\n",
       "CustomerID     135080\n",
       "Country             0\n",
       "dtype: int64"
      ]
     },
     "execution_count": 335,
     "metadata": {},
     "output_type": "execute_result"
    }
   ],
   "source": [
    "#Check for null values in the dataframe by column\n",
    "df.isnull().sum()"
   ]
  },
  {
   "cell_type": "markdown",
   "metadata": {
    "id": "V_oTtFalh5ez"
   },
   "source": [
    "###Cleaning the Data (3 Points)\n",
    "\n",
    "Remove cancelled orders (quantity<=0), orders with no description (description = \"\"), and records without a customerID.  "
   ]
  },
  {
   "cell_type": "code",
   "execution_count": 336,
   "metadata": {
    "id": "ZITUOwf076zy"
   },
   "outputs": [
    {
     "data": {
      "text/html": [
       "<div>\n",
       "<style scoped>\n",
       "    .dataframe tbody tr th:only-of-type {\n",
       "        vertical-align: middle;\n",
       "    }\n",
       "\n",
       "    .dataframe tbody tr th {\n",
       "        vertical-align: top;\n",
       "    }\n",
       "\n",
       "    .dataframe thead th {\n",
       "        text-align: right;\n",
       "    }\n",
       "</style>\n",
       "<table border=\"1\" class=\"dataframe\">\n",
       "  <thead>\n",
       "    <tr style=\"text-align: right;\">\n",
       "      <th></th>\n",
       "      <th>InvoiceNo</th>\n",
       "      <th>StockCode</th>\n",
       "      <th>Description</th>\n",
       "      <th>Quantity</th>\n",
       "      <th>InvoiceDate</th>\n",
       "      <th>UnitPrice</th>\n",
       "      <th>CustomerID</th>\n",
       "      <th>Country</th>\n",
       "    </tr>\n",
       "  </thead>\n",
       "  <tbody>\n",
       "    <tr>\n",
       "      <th>0</th>\n",
       "      <td>536365</td>\n",
       "      <td>85123A</td>\n",
       "      <td>WHITE HANGING HEART T-LIGHT HOLDER</td>\n",
       "      <td>6</td>\n",
       "      <td>2010-12-01 08:26:00</td>\n",
       "      <td>2.55</td>\n",
       "      <td>17850.0</td>\n",
       "      <td>United Kingdom</td>\n",
       "    </tr>\n",
       "    <tr>\n",
       "      <th>1</th>\n",
       "      <td>536365</td>\n",
       "      <td>71053</td>\n",
       "      <td>WHITE METAL LANTERN</td>\n",
       "      <td>6</td>\n",
       "      <td>2010-12-01 08:26:00</td>\n",
       "      <td>3.39</td>\n",
       "      <td>17850.0</td>\n",
       "      <td>United Kingdom</td>\n",
       "    </tr>\n",
       "    <tr>\n",
       "      <th>2</th>\n",
       "      <td>536365</td>\n",
       "      <td>84406B</td>\n",
       "      <td>CREAM CUPID HEARTS COAT HANGER</td>\n",
       "      <td>8</td>\n",
       "      <td>2010-12-01 08:26:00</td>\n",
       "      <td>2.75</td>\n",
       "      <td>17850.0</td>\n",
       "      <td>United Kingdom</td>\n",
       "    </tr>\n",
       "    <tr>\n",
       "      <th>3</th>\n",
       "      <td>536365</td>\n",
       "      <td>84029G</td>\n",
       "      <td>KNITTED UNION FLAG HOT WATER BOTTLE</td>\n",
       "      <td>6</td>\n",
       "      <td>2010-12-01 08:26:00</td>\n",
       "      <td>3.39</td>\n",
       "      <td>17850.0</td>\n",
       "      <td>United Kingdom</td>\n",
       "    </tr>\n",
       "    <tr>\n",
       "      <th>4</th>\n",
       "      <td>536365</td>\n",
       "      <td>84029E</td>\n",
       "      <td>RED WOOLLY HOTTIE WHITE HEART.</td>\n",
       "      <td>6</td>\n",
       "      <td>2010-12-01 08:26:00</td>\n",
       "      <td>3.39</td>\n",
       "      <td>17850.0</td>\n",
       "      <td>United Kingdom</td>\n",
       "    </tr>\n",
       "    <tr>\n",
       "      <th>...</th>\n",
       "      <td>...</td>\n",
       "      <td>...</td>\n",
       "      <td>...</td>\n",
       "      <td>...</td>\n",
       "      <td>...</td>\n",
       "      <td>...</td>\n",
       "      <td>...</td>\n",
       "      <td>...</td>\n",
       "    </tr>\n",
       "    <tr>\n",
       "      <th>541904</th>\n",
       "      <td>581587</td>\n",
       "      <td>22613</td>\n",
       "      <td>PACK OF 20 SPACEBOY NAPKINS</td>\n",
       "      <td>12</td>\n",
       "      <td>2011-12-09 12:50:00</td>\n",
       "      <td>0.85</td>\n",
       "      <td>12680.0</td>\n",
       "      <td>France</td>\n",
       "    </tr>\n",
       "    <tr>\n",
       "      <th>541905</th>\n",
       "      <td>581587</td>\n",
       "      <td>22899</td>\n",
       "      <td>CHILDREN'S APRON DOLLY GIRL</td>\n",
       "      <td>6</td>\n",
       "      <td>2011-12-09 12:50:00</td>\n",
       "      <td>2.10</td>\n",
       "      <td>12680.0</td>\n",
       "      <td>France</td>\n",
       "    </tr>\n",
       "    <tr>\n",
       "      <th>541906</th>\n",
       "      <td>581587</td>\n",
       "      <td>23254</td>\n",
       "      <td>CHILDRENS CUTLERY DOLLY GIRL</td>\n",
       "      <td>4</td>\n",
       "      <td>2011-12-09 12:50:00</td>\n",
       "      <td>4.15</td>\n",
       "      <td>12680.0</td>\n",
       "      <td>France</td>\n",
       "    </tr>\n",
       "    <tr>\n",
       "      <th>541907</th>\n",
       "      <td>581587</td>\n",
       "      <td>23255</td>\n",
       "      <td>CHILDRENS CUTLERY CIRCUS PARADE</td>\n",
       "      <td>4</td>\n",
       "      <td>2011-12-09 12:50:00</td>\n",
       "      <td>4.15</td>\n",
       "      <td>12680.0</td>\n",
       "      <td>France</td>\n",
       "    </tr>\n",
       "    <tr>\n",
       "      <th>541908</th>\n",
       "      <td>581587</td>\n",
       "      <td>22138</td>\n",
       "      <td>BAKING SET 9 PIECE RETROSPOT</td>\n",
       "      <td>3</td>\n",
       "      <td>2011-12-09 12:50:00</td>\n",
       "      <td>4.95</td>\n",
       "      <td>12680.0</td>\n",
       "      <td>France</td>\n",
       "    </tr>\n",
       "  </tbody>\n",
       "</table>\n",
       "<p>397924 rows × 8 columns</p>\n",
       "</div>"
      ],
      "text/plain": [
       "       InvoiceNo StockCode                          Description  Quantity  \\\n",
       "0         536365    85123A   WHITE HANGING HEART T-LIGHT HOLDER         6   \n",
       "1         536365     71053                  WHITE METAL LANTERN         6   \n",
       "2         536365    84406B       CREAM CUPID HEARTS COAT HANGER         8   \n",
       "3         536365    84029G  KNITTED UNION FLAG HOT WATER BOTTLE         6   \n",
       "4         536365    84029E       RED WOOLLY HOTTIE WHITE HEART.         6   \n",
       "...          ...       ...                                  ...       ...   \n",
       "541904    581587     22613          PACK OF 20 SPACEBOY NAPKINS        12   \n",
       "541905    581587     22899         CHILDREN'S APRON DOLLY GIRL          6   \n",
       "541906    581587     23254        CHILDRENS CUTLERY DOLLY GIRL          4   \n",
       "541907    581587     23255      CHILDRENS CUTLERY CIRCUS PARADE         4   \n",
       "541908    581587     22138        BAKING SET 9 PIECE RETROSPOT          3   \n",
       "\n",
       "               InvoiceDate  UnitPrice  CustomerID         Country  \n",
       "0      2010-12-01 08:26:00       2.55     17850.0  United Kingdom  \n",
       "1      2010-12-01 08:26:00       3.39     17850.0  United Kingdom  \n",
       "2      2010-12-01 08:26:00       2.75     17850.0  United Kingdom  \n",
       "3      2010-12-01 08:26:00       3.39     17850.0  United Kingdom  \n",
       "4      2010-12-01 08:26:00       3.39     17850.0  United Kingdom  \n",
       "...                    ...        ...         ...             ...  \n",
       "541904 2011-12-09 12:50:00       0.85     12680.0          France  \n",
       "541905 2011-12-09 12:50:00       2.10     12680.0          France  \n",
       "541906 2011-12-09 12:50:00       4.15     12680.0          France  \n",
       "541907 2011-12-09 12:50:00       4.15     12680.0          France  \n",
       "541908 2011-12-09 12:50:00       4.95     12680.0          France  \n",
       "\n",
       "[397924 rows x 8 columns]"
      ]
     },
     "execution_count": 336,
     "metadata": {},
     "output_type": "execute_result"
    }
   ],
   "source": [
    "# (2 points)\n",
    "# Drop cancelled orders \n",
    "df.dropna(inplace=True)\n",
    "df.drop(df[df['Quantity'] <= 0].index, inplace = True)\n",
    "# Drop blank descriptions since we do not know what the customer ordered \n",
    "# Drop records without CustomerID \n",
    "df"
   ]
  },
  {
   "cell_type": "markdown",
   "metadata": {
    "id": "xQUrZZqnWMHB"
   },
   "source": [
    "Add a column with the total revenue (sales price) per row (quantity sold times price per unit). "
   ]
  },
  {
   "cell_type": "code",
   "execution_count": 337,
   "metadata": {
    "colab": {
     "base_uri": "https://localhost:8080/",
     "height": 204
    },
    "id": "VREkAMS9TbV-",
    "outputId": "eb3a4b45-f8c1-46f8-ab13-53b4235bb944",
    "scrolled": true
   },
   "outputs": [
    {
     "data": {
      "text/html": [
       "<div>\n",
       "<style scoped>\n",
       "    .dataframe tbody tr th:only-of-type {\n",
       "        vertical-align: middle;\n",
       "    }\n",
       "\n",
       "    .dataframe tbody tr th {\n",
       "        vertical-align: top;\n",
       "    }\n",
       "\n",
       "    .dataframe thead th {\n",
       "        text-align: right;\n",
       "    }\n",
       "</style>\n",
       "<table border=\"1\" class=\"dataframe\">\n",
       "  <thead>\n",
       "    <tr style=\"text-align: right;\">\n",
       "      <th></th>\n",
       "      <th>InvoiceNo</th>\n",
       "      <th>StockCode</th>\n",
       "      <th>Description</th>\n",
       "      <th>Quantity</th>\n",
       "      <th>InvoiceDate</th>\n",
       "      <th>UnitPrice</th>\n",
       "      <th>CustomerID</th>\n",
       "      <th>Country</th>\n",
       "      <th>total_sales</th>\n",
       "    </tr>\n",
       "  </thead>\n",
       "  <tbody>\n",
       "    <tr>\n",
       "      <th>0</th>\n",
       "      <td>536365</td>\n",
       "      <td>85123A</td>\n",
       "      <td>WHITE HANGING HEART T-LIGHT HOLDER</td>\n",
       "      <td>6</td>\n",
       "      <td>2010-12-01 08:26:00</td>\n",
       "      <td>2.55</td>\n",
       "      <td>17850.0</td>\n",
       "      <td>United Kingdom</td>\n",
       "      <td>15.30</td>\n",
       "    </tr>\n",
       "    <tr>\n",
       "      <th>1</th>\n",
       "      <td>536365</td>\n",
       "      <td>71053</td>\n",
       "      <td>WHITE METAL LANTERN</td>\n",
       "      <td>6</td>\n",
       "      <td>2010-12-01 08:26:00</td>\n",
       "      <td>3.39</td>\n",
       "      <td>17850.0</td>\n",
       "      <td>United Kingdom</td>\n",
       "      <td>20.34</td>\n",
       "    </tr>\n",
       "    <tr>\n",
       "      <th>2</th>\n",
       "      <td>536365</td>\n",
       "      <td>84406B</td>\n",
       "      <td>CREAM CUPID HEARTS COAT HANGER</td>\n",
       "      <td>8</td>\n",
       "      <td>2010-12-01 08:26:00</td>\n",
       "      <td>2.75</td>\n",
       "      <td>17850.0</td>\n",
       "      <td>United Kingdom</td>\n",
       "      <td>22.00</td>\n",
       "    </tr>\n",
       "    <tr>\n",
       "      <th>3</th>\n",
       "      <td>536365</td>\n",
       "      <td>84029G</td>\n",
       "      <td>KNITTED UNION FLAG HOT WATER BOTTLE</td>\n",
       "      <td>6</td>\n",
       "      <td>2010-12-01 08:26:00</td>\n",
       "      <td>3.39</td>\n",
       "      <td>17850.0</td>\n",
       "      <td>United Kingdom</td>\n",
       "      <td>20.34</td>\n",
       "    </tr>\n",
       "    <tr>\n",
       "      <th>4</th>\n",
       "      <td>536365</td>\n",
       "      <td>84029E</td>\n",
       "      <td>RED WOOLLY HOTTIE WHITE HEART.</td>\n",
       "      <td>6</td>\n",
       "      <td>2010-12-01 08:26:00</td>\n",
       "      <td>3.39</td>\n",
       "      <td>17850.0</td>\n",
       "      <td>United Kingdom</td>\n",
       "      <td>20.34</td>\n",
       "    </tr>\n",
       "    <tr>\n",
       "      <th>5</th>\n",
       "      <td>536365</td>\n",
       "      <td>22752</td>\n",
       "      <td>SET 7 BABUSHKA NESTING BOXES</td>\n",
       "      <td>2</td>\n",
       "      <td>2010-12-01 08:26:00</td>\n",
       "      <td>7.65</td>\n",
       "      <td>17850.0</td>\n",
       "      <td>United Kingdom</td>\n",
       "      <td>15.30</td>\n",
       "    </tr>\n",
       "    <tr>\n",
       "      <th>6</th>\n",
       "      <td>536365</td>\n",
       "      <td>21730</td>\n",
       "      <td>GLASS STAR FROSTED T-LIGHT HOLDER</td>\n",
       "      <td>6</td>\n",
       "      <td>2010-12-01 08:26:00</td>\n",
       "      <td>4.25</td>\n",
       "      <td>17850.0</td>\n",
       "      <td>United Kingdom</td>\n",
       "      <td>25.50</td>\n",
       "    </tr>\n",
       "    <tr>\n",
       "      <th>7</th>\n",
       "      <td>536366</td>\n",
       "      <td>22633</td>\n",
       "      <td>HAND WARMER UNION JACK</td>\n",
       "      <td>6</td>\n",
       "      <td>2010-12-01 08:28:00</td>\n",
       "      <td>1.85</td>\n",
       "      <td>17850.0</td>\n",
       "      <td>United Kingdom</td>\n",
       "      <td>11.10</td>\n",
       "    </tr>\n",
       "    <tr>\n",
       "      <th>8</th>\n",
       "      <td>536366</td>\n",
       "      <td>22632</td>\n",
       "      <td>HAND WARMER RED POLKA DOT</td>\n",
       "      <td>6</td>\n",
       "      <td>2010-12-01 08:28:00</td>\n",
       "      <td>1.85</td>\n",
       "      <td>17850.0</td>\n",
       "      <td>United Kingdom</td>\n",
       "      <td>11.10</td>\n",
       "    </tr>\n",
       "    <tr>\n",
       "      <th>9</th>\n",
       "      <td>536367</td>\n",
       "      <td>84879</td>\n",
       "      <td>ASSORTED COLOUR BIRD ORNAMENT</td>\n",
       "      <td>32</td>\n",
       "      <td>2010-12-01 08:34:00</td>\n",
       "      <td>1.69</td>\n",
       "      <td>13047.0</td>\n",
       "      <td>United Kingdom</td>\n",
       "      <td>54.08</td>\n",
       "    </tr>\n",
       "    <tr>\n",
       "      <th>10</th>\n",
       "      <td>536367</td>\n",
       "      <td>22745</td>\n",
       "      <td>POPPY'S PLAYHOUSE BEDROOM</td>\n",
       "      <td>6</td>\n",
       "      <td>2010-12-01 08:34:00</td>\n",
       "      <td>2.10</td>\n",
       "      <td>13047.0</td>\n",
       "      <td>United Kingdom</td>\n",
       "      <td>12.60</td>\n",
       "    </tr>\n",
       "    <tr>\n",
       "      <th>11</th>\n",
       "      <td>536367</td>\n",
       "      <td>22748</td>\n",
       "      <td>POPPY'S PLAYHOUSE KITCHEN</td>\n",
       "      <td>6</td>\n",
       "      <td>2010-12-01 08:34:00</td>\n",
       "      <td>2.10</td>\n",
       "      <td>13047.0</td>\n",
       "      <td>United Kingdom</td>\n",
       "      <td>12.60</td>\n",
       "    </tr>\n",
       "    <tr>\n",
       "      <th>12</th>\n",
       "      <td>536367</td>\n",
       "      <td>22749</td>\n",
       "      <td>FELTCRAFT PRINCESS CHARLOTTE DOLL</td>\n",
       "      <td>8</td>\n",
       "      <td>2010-12-01 08:34:00</td>\n",
       "      <td>3.75</td>\n",
       "      <td>13047.0</td>\n",
       "      <td>United Kingdom</td>\n",
       "      <td>30.00</td>\n",
       "    </tr>\n",
       "    <tr>\n",
       "      <th>13</th>\n",
       "      <td>536367</td>\n",
       "      <td>22310</td>\n",
       "      <td>IVORY KNITTED MUG COSY</td>\n",
       "      <td>6</td>\n",
       "      <td>2010-12-01 08:34:00</td>\n",
       "      <td>1.65</td>\n",
       "      <td>13047.0</td>\n",
       "      <td>United Kingdom</td>\n",
       "      <td>9.90</td>\n",
       "    </tr>\n",
       "    <tr>\n",
       "      <th>14</th>\n",
       "      <td>536367</td>\n",
       "      <td>84969</td>\n",
       "      <td>BOX OF 6 ASSORTED COLOUR TEASPOONS</td>\n",
       "      <td>6</td>\n",
       "      <td>2010-12-01 08:34:00</td>\n",
       "      <td>4.25</td>\n",
       "      <td>13047.0</td>\n",
       "      <td>United Kingdom</td>\n",
       "      <td>25.50</td>\n",
       "    </tr>\n",
       "    <tr>\n",
       "      <th>15</th>\n",
       "      <td>536367</td>\n",
       "      <td>22623</td>\n",
       "      <td>BOX OF VINTAGE JIGSAW BLOCKS</td>\n",
       "      <td>3</td>\n",
       "      <td>2010-12-01 08:34:00</td>\n",
       "      <td>4.95</td>\n",
       "      <td>13047.0</td>\n",
       "      <td>United Kingdom</td>\n",
       "      <td>14.85</td>\n",
       "    </tr>\n",
       "    <tr>\n",
       "      <th>16</th>\n",
       "      <td>536367</td>\n",
       "      <td>22622</td>\n",
       "      <td>BOX OF VINTAGE ALPHABET BLOCKS</td>\n",
       "      <td>2</td>\n",
       "      <td>2010-12-01 08:34:00</td>\n",
       "      <td>9.95</td>\n",
       "      <td>13047.0</td>\n",
       "      <td>United Kingdom</td>\n",
       "      <td>19.90</td>\n",
       "    </tr>\n",
       "    <tr>\n",
       "      <th>17</th>\n",
       "      <td>536367</td>\n",
       "      <td>21754</td>\n",
       "      <td>HOME BUILDING BLOCK WORD</td>\n",
       "      <td>3</td>\n",
       "      <td>2010-12-01 08:34:00</td>\n",
       "      <td>5.95</td>\n",
       "      <td>13047.0</td>\n",
       "      <td>United Kingdom</td>\n",
       "      <td>17.85</td>\n",
       "    </tr>\n",
       "    <tr>\n",
       "      <th>18</th>\n",
       "      <td>536367</td>\n",
       "      <td>21755</td>\n",
       "      <td>LOVE BUILDING BLOCK WORD</td>\n",
       "      <td>3</td>\n",
       "      <td>2010-12-01 08:34:00</td>\n",
       "      <td>5.95</td>\n",
       "      <td>13047.0</td>\n",
       "      <td>United Kingdom</td>\n",
       "      <td>17.85</td>\n",
       "    </tr>\n",
       "    <tr>\n",
       "      <th>19</th>\n",
       "      <td>536367</td>\n",
       "      <td>21777</td>\n",
       "      <td>RECIPE BOX WITH METAL HEART</td>\n",
       "      <td>4</td>\n",
       "      <td>2010-12-01 08:34:00</td>\n",
       "      <td>7.95</td>\n",
       "      <td>13047.0</td>\n",
       "      <td>United Kingdom</td>\n",
       "      <td>31.80</td>\n",
       "    </tr>\n",
       "  </tbody>\n",
       "</table>\n",
       "</div>"
      ],
      "text/plain": [
       "   InvoiceNo StockCode                          Description  Quantity  \\\n",
       "0     536365    85123A   WHITE HANGING HEART T-LIGHT HOLDER         6   \n",
       "1     536365     71053                  WHITE METAL LANTERN         6   \n",
       "2     536365    84406B       CREAM CUPID HEARTS COAT HANGER         8   \n",
       "3     536365    84029G  KNITTED UNION FLAG HOT WATER BOTTLE         6   \n",
       "4     536365    84029E       RED WOOLLY HOTTIE WHITE HEART.         6   \n",
       "5     536365     22752         SET 7 BABUSHKA NESTING BOXES         2   \n",
       "6     536365     21730    GLASS STAR FROSTED T-LIGHT HOLDER         6   \n",
       "7     536366     22633               HAND WARMER UNION JACK         6   \n",
       "8     536366     22632            HAND WARMER RED POLKA DOT         6   \n",
       "9     536367     84879        ASSORTED COLOUR BIRD ORNAMENT        32   \n",
       "10    536367     22745           POPPY'S PLAYHOUSE BEDROOM          6   \n",
       "11    536367     22748            POPPY'S PLAYHOUSE KITCHEN         6   \n",
       "12    536367     22749    FELTCRAFT PRINCESS CHARLOTTE DOLL         8   \n",
       "13    536367     22310              IVORY KNITTED MUG COSY          6   \n",
       "14    536367     84969   BOX OF 6 ASSORTED COLOUR TEASPOONS         6   \n",
       "15    536367     22623        BOX OF VINTAGE JIGSAW BLOCKS          3   \n",
       "16    536367     22622       BOX OF VINTAGE ALPHABET BLOCKS         2   \n",
       "17    536367     21754             HOME BUILDING BLOCK WORD         3   \n",
       "18    536367     21755             LOVE BUILDING BLOCK WORD         3   \n",
       "19    536367     21777          RECIPE BOX WITH METAL HEART         4   \n",
       "\n",
       "           InvoiceDate  UnitPrice  CustomerID         Country  total_sales  \n",
       "0  2010-12-01 08:26:00       2.55     17850.0  United Kingdom        15.30  \n",
       "1  2010-12-01 08:26:00       3.39     17850.0  United Kingdom        20.34  \n",
       "2  2010-12-01 08:26:00       2.75     17850.0  United Kingdom        22.00  \n",
       "3  2010-12-01 08:26:00       3.39     17850.0  United Kingdom        20.34  \n",
       "4  2010-12-01 08:26:00       3.39     17850.0  United Kingdom        20.34  \n",
       "5  2010-12-01 08:26:00       7.65     17850.0  United Kingdom        15.30  \n",
       "6  2010-12-01 08:26:00       4.25     17850.0  United Kingdom        25.50  \n",
       "7  2010-12-01 08:28:00       1.85     17850.0  United Kingdom        11.10  \n",
       "8  2010-12-01 08:28:00       1.85     17850.0  United Kingdom        11.10  \n",
       "9  2010-12-01 08:34:00       1.69     13047.0  United Kingdom        54.08  \n",
       "10 2010-12-01 08:34:00       2.10     13047.0  United Kingdom        12.60  \n",
       "11 2010-12-01 08:34:00       2.10     13047.0  United Kingdom        12.60  \n",
       "12 2010-12-01 08:34:00       3.75     13047.0  United Kingdom        30.00  \n",
       "13 2010-12-01 08:34:00       1.65     13047.0  United Kingdom         9.90  \n",
       "14 2010-12-01 08:34:00       4.25     13047.0  United Kingdom        25.50  \n",
       "15 2010-12-01 08:34:00       4.95     13047.0  United Kingdom        14.85  \n",
       "16 2010-12-01 08:34:00       9.95     13047.0  United Kingdom        19.90  \n",
       "17 2010-12-01 08:34:00       5.95     13047.0  United Kingdom        17.85  \n",
       "18 2010-12-01 08:34:00       5.95     13047.0  United Kingdom        17.85  \n",
       "19 2010-12-01 08:34:00       7.95     13047.0  United Kingdom        31.80  "
      ]
     },
     "execution_count": 337,
     "metadata": {},
     "output_type": "execute_result"
    }
   ],
   "source": [
    "# Calculate total sales from the Quantity and UnitPrice (1 point)\n",
    "df['total_sales'] = df['Quantity'] * df['UnitPrice']\n",
    "df.head(20)"
   ]
  },
  {
   "cell_type": "markdown",
   "metadata": {
    "id": "1eBWo_d1pG6n"
   },
   "source": [
    "###Create a dataframe at the invoice level  (3 Points)\n",
    "Ultimately we want to say something about customers but first, let's investigate at the order/invoice level. Aggregate the data so that you have a new dataframe with one row per invoice. Keep track of the value of each transaction, the number of unique items sold, the total number of items sold and the customer who bought it. Remember to set your column names appropriately. "
   ]
  },
  {
   "cell_type": "code",
   "execution_count": 338,
   "metadata": {
    "colab": {
     "base_uri": "https://localhost:8080/",
     "height": 204
    },
    "id": "pNlhHW8qUVAf",
    "outputId": "408c9957-b9c7-4455-b714-ab29d4e5fb10"
   },
   "outputs": [
    {
     "data": {
      "text/html": [
       "<div>\n",
       "<style scoped>\n",
       "    .dataframe tbody tr th:only-of-type {\n",
       "        vertical-align: middle;\n",
       "    }\n",
       "\n",
       "    .dataframe tbody tr th {\n",
       "        vertical-align: top;\n",
       "    }\n",
       "\n",
       "    .dataframe thead th {\n",
       "        text-align: right;\n",
       "    }\n",
       "</style>\n",
       "<table border=\"1\" class=\"dataframe\">\n",
       "  <thead>\n",
       "    <tr style=\"text-align: right;\">\n",
       "      <th></th>\n",
       "      <th>InvoiceNo</th>\n",
       "      <th>Sales</th>\n",
       "      <th>UniqueItems</th>\n",
       "      <th>TotalItems</th>\n",
       "      <th>CustomerID</th>\n",
       "    </tr>\n",
       "  </thead>\n",
       "  <tbody>\n",
       "    <tr>\n",
       "      <th>0</th>\n",
       "      <td>536365</td>\n",
       "      <td>139.12</td>\n",
       "      <td>7</td>\n",
       "      <td>40</td>\n",
       "      <td>17850.0</td>\n",
       "    </tr>\n",
       "    <tr>\n",
       "      <th>1</th>\n",
       "      <td>536366</td>\n",
       "      <td>22.20</td>\n",
       "      <td>2</td>\n",
       "      <td>12</td>\n",
       "      <td>17850.0</td>\n",
       "    </tr>\n",
       "    <tr>\n",
       "      <th>2</th>\n",
       "      <td>536367</td>\n",
       "      <td>278.73</td>\n",
       "      <td>12</td>\n",
       "      <td>83</td>\n",
       "      <td>13047.0</td>\n",
       "    </tr>\n",
       "    <tr>\n",
       "      <th>3</th>\n",
       "      <td>536368</td>\n",
       "      <td>70.05</td>\n",
       "      <td>4</td>\n",
       "      <td>15</td>\n",
       "      <td>13047.0</td>\n",
       "    </tr>\n",
       "    <tr>\n",
       "      <th>4</th>\n",
       "      <td>536369</td>\n",
       "      <td>17.85</td>\n",
       "      <td>1</td>\n",
       "      <td>3</td>\n",
       "      <td>13047.0</td>\n",
       "    </tr>\n",
       "  </tbody>\n",
       "</table>\n",
       "</div>"
      ],
      "text/plain": [
       "   InvoiceNo   Sales  UniqueItems  TotalItems  CustomerID\n",
       "0     536365  139.12            7          40     17850.0\n",
       "1     536366   22.20            2          12     17850.0\n",
       "2     536367  278.73           12          83     13047.0\n",
       "3     536368   70.05            4          15     13047.0\n",
       "4     536369   17.85            1           3     13047.0"
      ]
     },
     "execution_count": 338,
     "metadata": {},
     "output_type": "execute_result"
    }
   ],
   "source": [
    "order_df_colnames = ['InvoiceNo', 'Sales', 'UniqueItems', 'TotalItems', 'CustomerID']\n",
    "# Create order_df grouping by InvoiceNo (1 point)\n",
    "# Use an agg function to create Sales, StockCode, Quantity, and CustomerID as are described above (2 points)\n",
    "order_df = df.groupby('InvoiceNo', as_index=False).agg({'total_sales': 'sum', 'Description': 'count', 'Quantity': 'sum', 'CustomerID': 'mean'})\n",
    "order_df.columns = order_df_colnames\n",
    "order_df.head()"
   ]
  },
  {
   "cell_type": "markdown",
   "metadata": {
    "id": "wFKlB2InxSgr"
   },
   "source": [
    "###Visualize the order data and remove excessively large purchases (3 points)\n",
    "Create a scatter plot of your new dataframe, with total items on the X axis and Sales on the Y axis. You will use this to visualize outliers before removing them. Once you see the plot, you should be able to filter the dataframe on each axis to remove the clear outliers. We chose the Sales and TotalItems axes because we wanted to omit orders where the total sales was extreme or orders with an extreme number of items. The only other column to consider here would be uniqueitems and we do not consider it because the totalitems column already does the same job and intuitively, we want to know total sales and total items. "
   ]
  },
  {
   "cell_type": "code",
   "execution_count": 339,
   "metadata": {
    "colab": {
     "base_uri": "https://localhost:8080/",
     "height": 298
    },
    "id": "J_rdGW-JWRRk",
    "outputId": "94418f87-e8fb-455d-c65b-95b63de8c235"
   },
   "outputs": [
    {
     "data": {
      "text/plain": [
       "<AxesSubplot:xlabel='TotalItems', ylabel='Sales'>"
      ]
     },
     "execution_count": 339,
     "metadata": {},
     "output_type": "execute_result"
    },
    {
     "data": {
      "image/png": "[encoded data removed]",
      "text/plain": [
       "<Figure size 432x288 with 1 Axes>"
      ]
     },
     "metadata": {
      "needs_background": "light"
     },
     "output_type": "display_data"
    }
   ],
   "source": [
    "#Create a scatter plot (1 point) \n",
    "order_df.plot.scatter(x='TotalItems',\n",
    "                      y='Sales',\n",
    "                      c='DarkBlue')"
   ]
  },
  {
   "cell_type": "markdown",
   "metadata": {
    "id": "0gkFuX9XFcac"
   },
   "source": [
    "Remove outliers on both axes from the dataframe, then add labels and reprint the chart with a clearer look at the data's behavior."
   ]
  },
  {
   "cell_type": "code",
   "execution_count": 340,
   "metadata": {
    "colab": {
     "base_uri": "https://localhost:8080/",
     "height": 296
    },
    "id": "6_bG0xVeWopu",
    "outputId": "67581bd4-9a18-42a7-ec44-205f6c084b24"
   },
   "outputs": [
    {
     "data": {
      "text/plain": [
       "InvoiceNo      18532\n",
       "Sales          18532\n",
       "UniqueItems    18532\n",
       "TotalItems     18532\n",
       "CustomerID     18532\n",
       "dtype: int64"
      ]
     },
     "execution_count": 340,
     "metadata": {},
     "output_type": "execute_result"
    },
    {
     "data": {
      "image/png": "[encoded data removed]",
      "text/plain": [
       "<Figure size 432x288 with 1 Axes>"
      ]
     },
     "metadata": {
      "needs_background": "light"
     },
     "output_type": "display_data"
    }
   ],
   "source": [
    "#Given the plot above remove outliers on both the totalitems and sales axis (1 point each)\n",
    "\n",
    "#Remove totalitems outliers in order_df using the scatter plot (1 point)\n",
    "\n",
    "#Remove sales outliers in order_df using the scatter plot (1 point)\n",
    "\n",
    "# after filtering, my order_df has 18532 rows\n",
    "order_df_filtered = order_df[order_df['TotalItems'] < 20000]\n",
    "order_df_filtered = order_df[order_df['Sales'] < 30000]\n",
    "order_df_filtered.plot.scatter(x='TotalItems',\n",
    "                      y='Sales',\n",
    "                      c='DarkBlue')\n",
    "order_df_filtered.count()"
   ]
  },
  {
   "cell_type": "markdown",
   "metadata": {
    "id": "Fe6t5CeSFmLv"
   },
   "source": [
    "###Create a customer dataframe and remove outliers using IQR (11 Points)\n",
    "Create a new dataframe at the customer level using the order dataframe. You can use the invoice dataframe for reference as the process is similar. Columns included should be (1) the total dollar amount of 'sales' across orders, (2) the number of different orders by the customer, (3) the average number of unique items in an order, and (4) the total items ordered across all orders."
   ]
  },
  {
   "cell_type": "code",
   "execution_count": 341,
   "metadata": {
    "id": "t7haDK3_XGA2"
   },
   "outputs": [
    {
     "data": {
      "text/html": [
       "<div>\n",
       "<style scoped>\n",
       "    .dataframe tbody tr th:only-of-type {\n",
       "        vertical-align: middle;\n",
       "    }\n",
       "\n",
       "    .dataframe tbody tr th {\n",
       "        vertical-align: top;\n",
       "    }\n",
       "\n",
       "    .dataframe thead th {\n",
       "        text-align: right;\n",
       "    }\n",
       "</style>\n",
       "<table border=\"1\" class=\"dataframe\">\n",
       "  <thead>\n",
       "    <tr style=\"text-align: right;\">\n",
       "      <th></th>\n",
       "      <th>TotalSales</th>\n",
       "      <th>OrderCount</th>\n",
       "      <th>AvgUniqueItems</th>\n",
       "      <th>TotalItems</th>\n",
       "    </tr>\n",
       "    <tr>\n",
       "      <th>CustomerID</th>\n",
       "      <th></th>\n",
       "      <th></th>\n",
       "      <th></th>\n",
       "      <th></th>\n",
       "    </tr>\n",
       "  </thead>\n",
       "  <tbody>\n",
       "    <tr>\n",
       "      <th>12347.0</th>\n",
       "      <td>4310.00</td>\n",
       "      <td>7</td>\n",
       "      <td>26.000</td>\n",
       "      <td>2458</td>\n",
       "    </tr>\n",
       "    <tr>\n",
       "      <th>12348.0</th>\n",
       "      <td>1797.24</td>\n",
       "      <td>4</td>\n",
       "      <td>7.750</td>\n",
       "      <td>2341</td>\n",
       "    </tr>\n",
       "    <tr>\n",
       "      <th>12349.0</th>\n",
       "      <td>1757.55</td>\n",
       "      <td>1</td>\n",
       "      <td>73.000</td>\n",
       "      <td>631</td>\n",
       "    </tr>\n",
       "    <tr>\n",
       "      <th>12350.0</th>\n",
       "      <td>334.40</td>\n",
       "      <td>1</td>\n",
       "      <td>17.000</td>\n",
       "      <td>197</td>\n",
       "    </tr>\n",
       "    <tr>\n",
       "      <th>12352.0</th>\n",
       "      <td>2506.04</td>\n",
       "      <td>8</td>\n",
       "      <td>10.625</td>\n",
       "      <td>536</td>\n",
       "    </tr>\n",
       "  </tbody>\n",
       "</table>\n",
       "</div>"
      ],
      "text/plain": [
       "            TotalSales  OrderCount  AvgUniqueItems  TotalItems\n",
       "CustomerID                                                    \n",
       "12347.0        4310.00           7          26.000        2458\n",
       "12348.0        1797.24           4           7.750        2341\n",
       "12349.0        1757.55           1          73.000         631\n",
       "12350.0         334.40           1          17.000         197\n",
       "12352.0        2506.04           8          10.625         536"
      ]
     },
     "execution_count": 341,
     "metadata": {},
     "output_type": "execute_result"
    }
   ],
   "source": [
    "cust_df_colnames = ['TotalSales', 'OrderCount', 'AvgUniqueItems']\n",
    "\n",
    "#Create the customer dataframe (3 points)\n",
    "customer_df = order_df_filtered.groupby('CustomerID', as_index=True).agg({'Sales': 'sum','TotalItems': 'count', 'UniqueItems': 'mean'})\n",
    "customer_df.columns = cust_df_colnames\n",
    "new_df = order_df.groupby('CustomerID')[['TotalItems']].sum()\n",
    "new_df = new_df['TotalItems']\n",
    "customer_df = customer_df.join(new_df)\n",
    "customer_df.head()\n",
    "#Add titles to the columns you included (1 point)"
   ]
  },
  {
   "cell_type": "markdown",
   "metadata": {
    "id": "C_-0UImNb5Ys"
   },
   "source": [
    "Now add a new column showing each customer's average order value. "
   ]
  },
  {
   "cell_type": "code",
   "execution_count": 342,
   "metadata": {
    "id": "ToovcMCRb3pQ"
   },
   "outputs": [],
   "source": [
    "#Create a new column, AvgOrderValue (total sales divided by # orders per customer (1 point)\n",
    "customer_df['AvgOrderValue'] = customer_df['TotalSales'] / customer_df['OrderCount']"
   ]
  },
  {
   "cell_type": "markdown",
   "metadata": {
    "id": "8PahRR0a4te8"
   },
   "source": [
    "Now, create a scatter plot with total sales on the x axis and order count on the y axis to check for outliers"
   ]
  },
  {
   "cell_type": "code",
   "execution_count": 343,
   "metadata": {
    "colab": {
     "base_uri": "https://localhost:8080/",
     "height": 296
    },
    "id": "WQnuRmvX2-5X",
    "outputId": "409f266c-802e-450c-8d5c-987d50306716"
   },
   "outputs": [
    {
     "name": "stdout",
     "output_type": "stream",
     "text": [
      "(4338, 5)\n"
     ]
    },
    {
     "data": {
      "image/png": "[encoded data removed]",
      "text/plain": [
       "<Figure size 432x288 with 1 Axes>"
      ]
     },
     "metadata": {
      "needs_background": "light"
     },
     "output_type": "display_data"
    }
   ],
   "source": [
    "#Create a scatter plot of total sales and order count to visualize our current data  \n",
    "customer_df.plot.scatter(x='TotalSales', y='OrderCount')\n",
    "print(customer_df.shape)\n",
    "plt.show()"
   ]
  },
  {
   "cell_type": "markdown",
   "metadata": {
    "id": "j4HcGRwVc8B6"
   },
   "source": [
    "This time, let's calculate the interquartile range (IQR), the difference between the upper and lower quartiles, and use this to compute lower (upper)bounds on the `Sales` column equal to the $Q_1 - 1.5\\times IQR\\,\\,$ (and $Q_3 + 1.5\\times IQR$, respectively)."
   ]
  },
  {
   "cell_type": "code",
   "execution_count": 344,
   "metadata": {
    "colab": {
     "base_uri": "https://localhost:8080/"
    },
    "id": "_XeMCwbc-7jS",
    "outputId": "3a80795c-d7a9-4ab3-f7e9-04b308e0ef37"
   },
   "outputs": [
    {
     "name": "stdout",
     "output_type": "stream",
     "text": [
      "-1723.9362500000002 3691.99375\n"
     ]
    }
   ],
   "source": [
    "#Instead of using a visual heuristic and boxplot, let's try implementing IQR to detect our outliers. (2 points)\n",
    "Q1_sales = customer_df['TotalSales'].quantile(0.25)\n",
    "Q3_sales = customer_df['TotalSales'].quantile(0.75)\n",
    "\n",
    "sales_iqr_ =  Q3_sales - Q1_sales\n",
    "\n",
    "sales_bottom_bound, sales_top_bound =  Q1_sales - 1.5 * sales_iqr, Q3_sales + 1.5 * sales_iqr\n",
    "print(sales_bottom_bound, sales_top_bound)"
   ]
  },
  {
   "cell_type": "markdown",
   "metadata": {
    "id": "IYaRlDQaewCy"
   },
   "source": [
    "Now, repeat the process to compute similar bounds on the number of orders per customer. "
   ]
  },
  {
   "cell_type": "code",
   "execution_count": 345,
   "metadata": {
    "colab": {
     "base_uri": "https://localhost:8080/"
    },
    "id": "fZopH8iBCCpP",
    "outputId": "e8b6c6a2-e395-4bd1-d082-c22f32623409"
   },
   "outputs": [
    {
     "name": "stdout",
     "output_type": "stream",
     "text": [
      "-5.0 11.0\n"
     ]
    }
   ],
   "source": [
    "#Instead of using a visual heuristic and boxplot, let's try implementing IQR to detect our outliers. (1 point)\n",
    "Q1_ordercount = customer_df['OrderCount'].quantile(0.25)\n",
    "Q3_ordercount = customer_df['OrderCount'].quantile(0.75)\n",
    "\n",
    "ordercount_iqr =  Q3_ordercount - Q1_ordercount\n",
    "\n",
    "order_bottom_bound, order_top_bound =  Q1_ordercount - 1.5 * ordercount_iqr, Q3_ordercount + 1.5 * ordercount_iqr\n",
    " \n",
    "print(order_bottom_bound, order_top_bound)"
   ]
  },
  {
   "cell_type": "markdown",
   "metadata": {
    "id": "reBAn_ld40VV"
   },
   "source": [
    "Now, filter the dateframe to exclude rows where the orders or sales value exceed the bounds you computed. "
   ]
  },
  {
   "cell_type": "code",
   "execution_count": 346,
   "metadata": {
    "id": "ExSPJuKU187Z"
   },
   "outputs": [],
   "source": [
    "#(1 point)\n",
    "cust_df = customer_df[(customer_df['TotalSales'] > sales_bottom_bound) & (customer_df['TotalSales'] < sales_top_bound)]"
   ]
  },
  {
   "cell_type": "code",
   "execution_count": 347,
   "metadata": {},
   "outputs": [],
   "source": [
    "cust_df_final = cust_df[(cust_df['OrderCount'] > order_bottom_bound) & (cust_df['OrderCount'] < order_top_bound)]"
   ]
  },
  {
   "cell_type": "markdown",
   "metadata": {
    "id": "fOxjumb9l34O"
   },
   "source": [
    "Visualize your data. Notice what outliers were removed."
   ]
  },
  {
   "cell_type": "code",
   "execution_count": 348,
   "metadata": {
    "id": "H1cqJ3udl8G4"
   },
   "outputs": [
    {
     "data": {
      "text/plain": [
       "<AxesSubplot:xlabel='TotalSales', ylabel='OrderCount'>"
      ]
     },
     "execution_count": 348,
     "metadata": {},
     "output_type": "execute_result"
    },
    {
     "data": {
      "image/png": "[encoded data removed]",
      "text/plain": [
       "<Figure size 432x288 with 1 Axes>"
      ]
     },
     "metadata": {
      "needs_background": "light"
     },
     "output_type": "display_data"
    }
   ],
   "source": [
    "#plotting your data\n",
    "cust_df_final.plot.scatter(x='TotalSales', y='OrderCount')"
   ]
  },
  {
   "cell_type": "markdown",
   "metadata": {
    "id": "TZeMNxF05IF-"
   },
   "source": [
    "Finally, create a normalized dataframe, by standardizing each column of cust_df (subtract the mean, scale by the standard deviation). You should be able to do this in one line of code. "
   ]
  },
  {
   "cell_type": "code",
   "execution_count": 349,
   "metadata": {
    "id": "YNsbeHf4Qgxs"
   },
   "outputs": [
    {
     "name": "stdout",
     "output_type": "stream",
     "text": [
      "            TotalSales  OrderCount  AvgUniqueItems  TotalItems  AvgOrderValue\n",
      "CustomerID                                                                   \n",
      "12348.0       1.191790    0.620713       -0.728533    1.248390       0.469427\n",
      "12349.0       1.141758   -0.824231        2.669302    0.059227       5.511178\n",
      "12350.0      -0.652220   -0.824231       -0.246848   -0.242585       0.026582\n",
      "12352.0       2.085281    2.547305       -0.578820   -0.006838      -0.054908\n",
      "12353.0      -0.961564   -0.824231       -0.923811   -0.365674      -0.919151\n",
      "...                ...         ...             ...         ...            ...\n",
      "18278.0      -0.854542   -0.824231       -0.663440   -0.333684      -0.591960\n",
      "18280.0      -0.846096   -0.824231       -0.611366   -0.348288      -0.566139\n",
      "18281.0      -0.971875   -0.824231       -0.767589   -0.342029      -0.950676\n",
      "18282.0      -0.849310   -0.342583       -0.819663   -0.307954      -0.919055\n",
      "18287.0       1.242263    0.139065        0.082955    0.723350       1.098053\n",
      "\n",
      "[3841 rows x 5 columns] 3841\n"
     ]
    }
   ],
   "source": [
    "#Create normalized_df, a normalized version of cust_df (2 points)\n",
    "normalized_df=(cust_df_final-cust_df_final.mean())/cust_df_final.std()\n",
    "print(normalized_df,len(normalized_df))"
   ]
  },
  {
   "cell_type": "code",
   "execution_count": 350,
   "metadata": {},
   "outputs": [],
   "source": [
    "normalized_df = normalized_df[normalized_df['TotalItems'] < 50]"
   ]
  },
  {
   "cell_type": "markdown",
   "metadata": {
    "id": "eMvs4cNh0E3u"
   },
   "source": [
    "You'll notice that we were pretty aggressive in removing outliers, we went from 4338 customers to 3841. It'll help us get cleaner clusters later for the purpose of this exercise, but in practice we should be more careful. "
   ]
  },
  {
   "cell_type": "markdown",
   "metadata": {
    "id": "LCurOcuO5nzy"
   },
   "source": [
    "##  K-Means Clustering Algorithm  (5 points)\n",
    "\n",
    "We don't know how many clusters is appropriate, so we will do $k$-means clustering for $k \\in [2, 3, \\ldots, 15]$ and use the [silhouette-score](https://scikit-learn.org/stable/modules/generated/sklearn.metrics.silhouette_score.html) to choose the best value of $k$. Be sure to read the documentation to understand silhouettes, briefly, higher scores are better. Training may take a few seconds. "
   ]
  },
  {
   "cell_type": "code",
   "execution_count": 351,
   "metadata": {
    "colab": {
     "base_uri": "https://localhost:8080/",
     "height": 282
    },
    "id": "SR8vbpheKmE2",
    "outputId": "da2ea08a-ddf2-455a-8d55-dd5fb833514a"
   },
   "outputs": [
    {
     "data": {
      "image/png": "[encoded data removed]",
      "text/plain": [
       "<Figure size 432x288 with 1 Axes>"
      ]
     },
     "metadata": {
      "needs_background": "light"
     },
     "output_type": "display_data"
    }
   ],
   "source": [
    "#(5 points)\n",
    "from sklearn.metrics import silhouette_score\n",
    "\n",
    "krange = list(range(2,16))\n",
    "cols = ['TotalSales', 'OrderCount',  'TotalItems', 'AvgOrderValue']\n",
    "X = normalized_df[cols].values\n",
    "\n",
    "silhouette = []\n",
    "\n",
    "# Iterate over the range of K values, which denotes the number of clusters\n",
    "for n in krange:\n",
    "    kmeans = KMeans(n_clusters=n)\n",
    "    kmeans.fit_predict(X)\n",
    "    score = silhouette.append(silhouette_score(X,kmeans.labels_,))\n",
    "\n",
    "plt.plot(krange, silhouette)\n",
    "plt.xlabel(\"$K$\")\n",
    "plt.ylabel(\"Silhouette Score\")\n",
    "plt.show()"
   ]
  },
  {
   "cell_type": "markdown",
   "metadata": {
    "id": "fvj9rg4J8f4Z"
   },
   "source": [
    "##Investigate the clusters (4 points)\n",
    "Using the plot above, identify the best choice of $k$. Run $k$-means clustering with the chosen $k$, then create a new dataframe with an additional column showing the cluster of every customer. You should investigate your clusters to make sure a cluster doesn't just consist of one or two outliers. "
   ]
  },
  {
   "cell_type": "code",
   "execution_count": 352,
   "metadata": {
    "colab": {
     "base_uri": "https://localhost:8080/",
     "height": 173
    },
    "id": "01EVV2KVMtVc",
    "outputId": "6406df54-ff1d-4707-e48c-97293584d615"
   },
   "outputs": [
    {
     "data": {
      "text/html": [
       "<div>\n",
       "<style scoped>\n",
       "    .dataframe tbody tr th:only-of-type {\n",
       "        vertical-align: middle;\n",
       "    }\n",
       "\n",
       "    .dataframe tbody tr th {\n",
       "        vertical-align: top;\n",
       "    }\n",
       "\n",
       "    .dataframe thead th {\n",
       "        text-align: right;\n",
       "    }\n",
       "</style>\n",
       "<table border=\"1\" class=\"dataframe\">\n",
       "  <thead>\n",
       "    <tr style=\"text-align: right;\">\n",
       "      <th></th>\n",
       "      <th>TotalSales</th>\n",
       "      <th>OrderCount</th>\n",
       "      <th>TotalItems</th>\n",
       "      <th>AvgOrderValue</th>\n",
       "    </tr>\n",
       "    <tr>\n",
       "      <th>Cluster</th>\n",
       "      <th></th>\n",
       "      <th></th>\n",
       "      <th></th>\n",
       "      <th></th>\n",
       "    </tr>\n",
       "  </thead>\n",
       "  <tbody>\n",
       "    <tr>\n",
       "      <th>0</th>\n",
       "      <td>2731</td>\n",
       "      <td>2731</td>\n",
       "      <td>2731</td>\n",
       "      <td>2731</td>\n",
       "    </tr>\n",
       "    <tr>\n",
       "      <th>1</th>\n",
       "      <td>838</td>\n",
       "      <td>838</td>\n",
       "      <td>838</td>\n",
       "      <td>838</td>\n",
       "    </tr>\n",
       "    <tr>\n",
       "      <th>2</th>\n",
       "      <td>271</td>\n",
       "      <td>271</td>\n",
       "      <td>271</td>\n",
       "      <td>271</td>\n",
       "    </tr>\n",
       "  </tbody>\n",
       "</table>\n",
       "</div>"
      ],
      "text/plain": [
       "         TotalSales  OrderCount  TotalItems  AvgOrderValue\n",
       "Cluster                                                   \n",
       "0              2731        2731        2731           2731\n",
       "1               838         838         838            838\n",
       "2               271         271         271            271"
      ]
     },
     "execution_count": 352,
     "metadata": {},
     "output_type": "execute_result"
    }
   ],
   "source": [
    "#Set the K value and run the kmeans algorithm on the normalized dataframe (1 point)\n",
    "k =  3\n",
    "kmeans =  KMeans(n_clusters=k, random_state=0)\n",
    "labels = kmeans.fit_predict(X)\n",
    "\n",
    "#copy the columns from normalized_df \n",
    "cluster_df = normalized_df[cols].copy(deep=True)\n",
    "\n",
    "#Add the labels from the k-means algoithm to the cluster column in cluster_df (1 point)\n",
    "cluster_df['Cluster'] =  labels\n",
    "\n",
    "#Run groupby to see how many instances are in each cluster\n",
    "cluster_df.groupby('Cluster').count()"
   ]
  },
  {
   "cell_type": "markdown",
   "metadata": {
    "id": "wIKuNv4llLnD"
   },
   "source": [
    "Create a new dataframe with the centroid of each cluster. You can easily access the centroids in your estimators `cluster_centers_` attribute. "
   ]
  },
  {
   "cell_type": "code",
   "execution_count": 353,
   "metadata": {},
   "outputs": [
    {
     "data": {
      "text/html": [
       "<div>\n",
       "<style scoped>\n",
       "    .dataframe tbody tr th:only-of-type {\n",
       "        vertical-align: middle;\n",
       "    }\n",
       "\n",
       "    .dataframe tbody tr th {\n",
       "        vertical-align: top;\n",
       "    }\n",
       "\n",
       "    .dataframe thead th {\n",
       "        text-align: right;\n",
       "    }\n",
       "</style>\n",
       "<table border=\"1\" class=\"dataframe\">\n",
       "  <thead>\n",
       "    <tr style=\"text-align: right;\">\n",
       "      <th></th>\n",
       "      <th>TotalSales</th>\n",
       "      <th>OrderCount</th>\n",
       "      <th>TotalItems</th>\n",
       "      <th>AvgOrderValue</th>\n",
       "      <th>Cluster</th>\n",
       "    </tr>\n",
       "    <tr>\n",
       "      <th>CustomerID</th>\n",
       "      <th></th>\n",
       "      <th></th>\n",
       "      <th></th>\n",
       "      <th></th>\n",
       "      <th></th>\n",
       "    </tr>\n",
       "  </thead>\n",
       "  <tbody>\n",
       "    <tr>\n",
       "      <th>12348.0</th>\n",
       "      <td>1.191790</td>\n",
       "      <td>0.620713</td>\n",
       "      <td>1.248390</td>\n",
       "      <td>0.469427</td>\n",
       "      <td>1</td>\n",
       "    </tr>\n",
       "    <tr>\n",
       "      <th>12349.0</th>\n",
       "      <td>1.141758</td>\n",
       "      <td>-0.824231</td>\n",
       "      <td>0.059227</td>\n",
       "      <td>5.511178</td>\n",
       "      <td>2</td>\n",
       "    </tr>\n",
       "    <tr>\n",
       "      <th>12350.0</th>\n",
       "      <td>-0.652220</td>\n",
       "      <td>-0.824231</td>\n",
       "      <td>-0.242585</td>\n",
       "      <td>0.026582</td>\n",
       "      <td>0</td>\n",
       "    </tr>\n",
       "    <tr>\n",
       "      <th>12352.0</th>\n",
       "      <td>2.085281</td>\n",
       "      <td>2.547305</td>\n",
       "      <td>-0.006838</td>\n",
       "      <td>-0.054908</td>\n",
       "      <td>1</td>\n",
       "    </tr>\n",
       "    <tr>\n",
       "      <th>12353.0</th>\n",
       "      <td>-0.961564</td>\n",
       "      <td>-0.824231</td>\n",
       "      <td>-0.365674</td>\n",
       "      <td>-0.919151</td>\n",
       "      <td>0</td>\n",
       "    </tr>\n",
       "    <tr>\n",
       "      <th>...</th>\n",
       "      <td>...</td>\n",
       "      <td>...</td>\n",
       "      <td>...</td>\n",
       "      <td>...</td>\n",
       "      <td>...</td>\n",
       "    </tr>\n",
       "    <tr>\n",
       "      <th>18278.0</th>\n",
       "      <td>-0.854542</td>\n",
       "      <td>-0.824231</td>\n",
       "      <td>-0.333684</td>\n",
       "      <td>-0.591960</td>\n",
       "      <td>0</td>\n",
       "    </tr>\n",
       "    <tr>\n",
       "      <th>18280.0</th>\n",
       "      <td>-0.846096</td>\n",
       "      <td>-0.824231</td>\n",
       "      <td>-0.348288</td>\n",
       "      <td>-0.566139</td>\n",
       "      <td>0</td>\n",
       "    </tr>\n",
       "    <tr>\n",
       "      <th>18281.0</th>\n",
       "      <td>-0.971875</td>\n",
       "      <td>-0.824231</td>\n",
       "      <td>-0.342029</td>\n",
       "      <td>-0.950676</td>\n",
       "      <td>0</td>\n",
       "    </tr>\n",
       "    <tr>\n",
       "      <th>18282.0</th>\n",
       "      <td>-0.849310</td>\n",
       "      <td>-0.342583</td>\n",
       "      <td>-0.307954</td>\n",
       "      <td>-0.919055</td>\n",
       "      <td>0</td>\n",
       "    </tr>\n",
       "    <tr>\n",
       "      <th>18287.0</th>\n",
       "      <td>1.242263</td>\n",
       "      <td>0.139065</td>\n",
       "      <td>0.723350</td>\n",
       "      <td>1.098053</td>\n",
       "      <td>2</td>\n",
       "    </tr>\n",
       "  </tbody>\n",
       "</table>\n",
       "<p>3840 rows × 5 columns</p>\n",
       "</div>"
      ],
      "text/plain": [
       "            TotalSales  OrderCount  TotalItems  AvgOrderValue  Cluster\n",
       "CustomerID                                                            \n",
       "12348.0       1.191790    0.620713    1.248390       0.469427        1\n",
       "12349.0       1.141758   -0.824231    0.059227       5.511178        2\n",
       "12350.0      -0.652220   -0.824231   -0.242585       0.026582        0\n",
       "12352.0       2.085281    2.547305   -0.006838      -0.054908        1\n",
       "12353.0      -0.961564   -0.824231   -0.365674      -0.919151        0\n",
       "...                ...         ...         ...            ...      ...\n",
       "18278.0      -0.854542   -0.824231   -0.333684      -0.591960        0\n",
       "18280.0      -0.846096   -0.824231   -0.348288      -0.566139        0\n",
       "18281.0      -0.971875   -0.824231   -0.342029      -0.950676        0\n",
       "18282.0      -0.849310   -0.342583   -0.307954      -0.919055        0\n",
       "18287.0       1.242263    0.139065    0.723350       1.098053        2\n",
       "\n",
       "[3840 rows x 5 columns]"
      ]
     },
     "execution_count": 353,
     "metadata": {},
     "output_type": "execute_result"
    }
   ],
   "source": [
    "cluster_df"
   ]
  },
  {
   "cell_type": "code",
   "execution_count": 307,
   "metadata": {
    "colab": {
     "base_uri": "https://localhost:8080/",
     "height": 142
    },
    "id": "tFp15vYbMweF",
    "outputId": "35e1fdc0-5f76-45de-d6db-e57d8953437f"
   },
   "outputs": [
    {
     "data": {
      "text/html": [
       "<div>\n",
       "<style scoped>\n",
       "    .dataframe tbody tr th:only-of-type {\n",
       "        vertical-align: middle;\n",
       "    }\n",
       "\n",
       "    .dataframe tbody tr th {\n",
       "        vertical-align: top;\n",
       "    }\n",
       "\n",
       "    .dataframe thead th {\n",
       "        text-align: right;\n",
       "    }\n",
       "</style>\n",
       "<table border=\"1\" class=\"dataframe\">\n",
       "  <thead>\n",
       "    <tr style=\"text-align: right;\">\n",
       "      <th></th>\n",
       "      <th>TotalSales</th>\n",
       "      <th>OrderCount</th>\n",
       "      <th>TotalItems</th>\n",
       "      <th>AvgOrderValue</th>\n",
       "    </tr>\n",
       "  </thead>\n",
       "  <tbody>\n",
       "    <tr>\n",
       "      <th>0</th>\n",
       "      <td>1.345703</td>\n",
       "      <td>1.527683</td>\n",
       "      <td>0.447330</td>\n",
       "      <td>0.072844</td>\n",
       "    </tr>\n",
       "    <tr>\n",
       "      <th>1</th>\n",
       "      <td>-0.515652</td>\n",
       "      <td>-0.423710</td>\n",
       "      <td>-0.189454</td>\n",
       "      <td>-0.284909</td>\n",
       "    </tr>\n",
       "    <tr>\n",
       "      <th>2</th>\n",
       "      <td>1.039173</td>\n",
       "      <td>-0.450999</td>\n",
       "      <td>0.319521</td>\n",
       "      <td>2.650535</td>\n",
       "    </tr>\n",
       "  </tbody>\n",
       "</table>\n",
       "</div>"
      ],
      "text/plain": [
       "   TotalSales  OrderCount  TotalItems  AvgOrderValue\n",
       "0    1.345703    1.527683    0.447330       0.072844\n",
       "1   -0.515652   -0.423710   -0.189454      -0.284909\n",
       "2    1.039173   -0.450999    0.319521       2.650535"
      ]
     },
     "execution_count": 307,
     "metadata": {},
     "output_type": "execute_result"
    }
   ],
   "source": [
    "#(2 points)\n",
    "# Store the centroids in a dataframe\n",
    "cluster_centers = kmeans.cluster_centers_\n",
    "#Create a df using the centroids stored in the previous step\n",
    "cluster_center_df = pd.DataFrame(cluster_centers, columns = ['TotalSales', 'OrderCount',  'TotalItems', 'AvgOrderValue'])\n",
    "#Rename the columns of your df to the correct names\n",
    "cluster_center_df"
   ]
  },
  {
   "cell_type": "markdown",
   "metadata": {
    "id": "2itsoJWO_D8m"
   },
   "source": [
    "### Visualize and interpret clusters (8 points)\n",
    "Create scatter plots to visualize the relationship between your features and clusters. The template iterates over the respective x, y axes of each plot. You should create one pane with four plots using `cluster_df`. \n",
    "\n",
    "The plots in the second pane were created by first ranking the data in `cluster_df`. You can try to do this if it helps you interpret the clusters, but will not be penalised if you don't. "
   ]
  },
  {
   "cell_type": "code",
   "execution_count": 325,
   "metadata": {
    "colab": {
     "base_uri": "https://localhost:8080/",
     "height": 653
    },
    "id": "q36RqQANvQCB",
    "outputId": "dd293833-de9d-4e81-95e3-9f6f6bf69228"
   },
   "outputs": [
    {
     "ename": "IndentationError",
     "evalue": "expected an indented block (Temp/ipykernel_10624/3244657608.py, line 21)",
     "output_type": "error",
     "traceback": [
      "\u001b[1;36m  File \u001b[1;32m\"C:\\Users\\toddt\\AppData\\Local\\Temp/ipykernel_10624/3244657608.py\"\u001b[1;36m, line \u001b[1;32m21\u001b[0m\n\u001b[1;33m    # see and grade this. - Todd Tian - My self disappointment is immeasurable :'(\u001b[0m\n\u001b[1;37m                                                                                    ^\u001b[0m\n\u001b[1;31mIndentationError\u001b[0m\u001b[1;31m:\u001b[0m expected an indented block\n"
     ]
    }
   ],
   "source": [
    "#(3 points), (1 bonus point for plotting on rankings)\n",
    "\n",
    "plots = [('OrderCount', 'AvgOrderValue'),   ('OrderCount', 'TotalItems'), ('TotalItems', 'AvgOrderValue') , ('TotalSales', 'OrderCount') ] \n",
    "colors = [ 'blue', 'orange', 'green', 'purple']\n",
    "\n",
    "plot_df = cluster_df\n",
    "fig, axs = plt.subplots(1, len(plots) , figsize=(25, 5))\n",
    "\n",
    "for idx, col_pair in zip(range(len(plots)), plots): \n",
    "\n",
    "  #Iterate through all the clusters with a different color per cluster\n",
    "  for cluster in range(k): \n",
    "\n",
    "    #Create a scatter plot based on the X and Y axis in each plot, p using the colors variable (2 point)\n",
    "\n",
    "    #Set axis labels (1 point) \n",
    "    \n",
    "\n",
    "# I am sorry I found it kind of confusing and couldnt figure out how to plot the graphs in a loop so I've plotted them...\n",
    "# one by one below this and manually added the axis. I've probably already come to you about this part before you \n",
    "# see and grade this. - Todd Tian - My self disappointment is immeasurable :'(  \n"
   ]
  },
  {
   "cell_type": "code",
   "execution_count": 321,
   "metadata": {},
   "outputs": [
    {
     "data": {
      "text/plain": [
       "<matplotlib.collections.PathCollection at 0x1fbcc6606d0>"
      ]
     },
     "execution_count": 321,
     "metadata": {},
     "output_type": "execute_result"
    },
    {
     "data": {
      "image/png": "[encoded data removed]",
      "text/plain": [
       "<Figure size 432x288 with 1 Axes>"
      ]
     },
     "metadata": {
      "needs_background": "light"
     },
     "output_type": "display_data"
    }
   ],
   "source": [
    "plt.xlabel('OrderCount')\n",
    "plt.ylabel('AvgOrderValue')\n",
    "plt.scatter(X[:,1], X[:,2], c=labels,\n",
    "            s=50, cmap='viridis')"
   ]
  },
  {
   "cell_type": "code",
   "execution_count": 322,
   "metadata": {},
   "outputs": [
    {
     "data": {
      "text/plain": [
       "<matplotlib.collections.PathCollection at 0x1fbcc677cd0>"
      ]
     },
     "execution_count": 322,
     "metadata": {},
     "output_type": "execute_result"
    },
    {
     "data": {
      "image/png": "[encoded data removed]",
      "text/plain": [
       "<Figure size 432x288 with 1 Axes>"
      ]
     },
     "metadata": {
      "needs_background": "light"
     },
     "output_type": "display_data"
    }
   ],
   "source": [
    "plt.xlabel('OrderCount')\n",
    "plt.ylabel('TotalItems')\n",
    "plt.scatter(X[:,1], X[:,3], c=labels,\n",
    "            s=50, cmap='viridis')"
   ]
  },
  {
   "cell_type": "code",
   "execution_count": 323,
   "metadata": {},
   "outputs": [
    {
     "data": {
      "text/plain": [
       "<matplotlib.collections.PathCollection at 0x1fbcd0f4580>"
      ]
     },
     "execution_count": 323,
     "metadata": {},
     "output_type": "execute_result"
    },
    {
     "data": {
      "image/png": "[encoded data removed]",
      "text/plain": [
       "<Figure size 432x288 with 1 Axes>"
      ]
     },
     "metadata": {
      "needs_background": "light"
     },
     "output_type": "display_data"
    }
   ],
   "source": [
    "plt.xlabel('TotalItems')\n",
    "plt.ylabel('AvgOrderValue')\n",
    "plt.scatter(X[:,2], X[:,3], c=labels,\n",
    "            s=50, cmap='viridis')"
   ]
  },
  {
   "cell_type": "code",
   "execution_count": 324,
   "metadata": {},
   "outputs": [
    {
     "data": {
      "text/plain": [
       "<matplotlib.collections.PathCollection at 0x1fbcbedf0d0>"
      ]
     },
     "execution_count": 324,
     "metadata": {},
     "output_type": "execute_result"
    },
    {
     "data": {
      "image/png": "[encoded data removed]",
      "text/plain": [
       "<Figure size 432x288 with 1 Axes>"
      ]
     },
     "metadata": {
      "needs_background": "light"
     },
     "output_type": "display_data"
    }
   ],
   "source": [
    "plt.xlabel('TotalSales')\n",
    "plt.ylabel('OrderCount')\n",
    "plt.scatter(X[:,0], X[:,1], c=labels,\n",
    "            s=50, cmap='viridis')"
   ]
  },
  {
   "cell_type": "markdown",
   "metadata": {
    "id": "INXF682VYzzq"
   },
   "source": [
    "Thouroughly characterize the types of customers and their purchase behaviour for each cluster. (5 points)"
   ]
  },
  {
   "cell_type": "markdown",
   "metadata": {
    "id": "evAxGVlg1sS0"
   },
   "source": [
    "It seems that customers in the blue cluster tend to buy less items and account for less of the total revenue\n",
    "Customers in the yellow cluster seem to buy less items but those items have higher value compared to the purple cluster\n",
    "customers in the purple cluster seem to account for just as much of the total sales as the yellow cluster but buy items of lower value.\n",
    "\n",
    "Therefore we should market higher margin expensive products to those in the yellow cluster and mabye market discount items of lower value to those in the purple cluster. Since the customers in blue customers buy less items and less expensive items in general, it would be best to mabye market bundles with better price value than if they were to buy each individual item"
   ]
  },
  {
   "cell_type": "markdown",
   "metadata": {
    "id": "_sInV8UGCETO"
   },
   "source": [
    "###Dive Deeper into the High Value Cluster and display the Top Products (4 points)\n",
    "Investigate the cluster with the highest order value (on average) further by printing the top 10 best-selling products in the cluster. You will need to use your original dataframe coupled with the cluster number of each customer. "
   ]
  },
  {
   "cell_type": "code",
   "execution_count": 367,
   "metadata": {
    "colab": {
     "base_uri": "https://localhost:8080/",
     "height": 390
    },
    "id": "pr-5j9M0ND_V",
    "outputId": "dc26a689-eca1-4626-e519-23ea7c5a9128"
   },
   "outputs": [
    {
     "data": {
      "text/html": [
       "<div>\n",
       "<style scoped>\n",
       "    .dataframe tbody tr th:only-of-type {\n",
       "        vertical-align: middle;\n",
       "    }\n",
       "\n",
       "    .dataframe tbody tr th {\n",
       "        vertical-align: top;\n",
       "    }\n",
       "\n",
       "    .dataframe thead th {\n",
       "        text-align: right;\n",
       "    }\n",
       "</style>\n",
       "<table border=\"1\" class=\"dataframe\">\n",
       "  <thead>\n",
       "    <tr style=\"text-align: right;\">\n",
       "      <th></th>\n",
       "      <th>TotalSales</th>\n",
       "      <th>OrderCount</th>\n",
       "      <th>TotalItems</th>\n",
       "      <th>AvgOrderValue</th>\n",
       "      <th>Cluster</th>\n",
       "    </tr>\n",
       "    <tr>\n",
       "      <th>CustomerID</th>\n",
       "      <th></th>\n",
       "      <th></th>\n",
       "      <th></th>\n",
       "      <th></th>\n",
       "      <th></th>\n",
       "    </tr>\n",
       "  </thead>\n",
       "  <tbody>\n",
       "    <tr>\n",
       "      <th>12349.0</th>\n",
       "      <td>1.141758</td>\n",
       "      <td>-0.824231</td>\n",
       "      <td>0.059227</td>\n",
       "      <td>5.511178</td>\n",
       "      <td>2</td>\n",
       "    </tr>\n",
       "    <tr>\n",
       "      <th>12354.0</th>\n",
       "      <td>0.286903</td>\n",
       "      <td>-0.824231</td>\n",
       "      <td>-0.011011</td>\n",
       "      <td>2.897694</td>\n",
       "      <td>2</td>\n",
       "    </tr>\n",
       "    <tr>\n",
       "      <th>12356.0</th>\n",
       "      <td>2.470246</td>\n",
       "      <td>0.139065</td>\n",
       "      <td>0.726827</td>\n",
       "      <td>2.349460</td>\n",
       "      <td>2</td>\n",
       "    </tr>\n",
       "    <tr>\n",
       "      <th>12360.0</th>\n",
       "      <td>2.281955</td>\n",
       "      <td>0.139065</td>\n",
       "      <td>0.430579</td>\n",
       "      <td>2.157577</td>\n",
       "      <td>2</td>\n",
       "    </tr>\n",
       "    <tr>\n",
       "      <th>12370.0</th>\n",
       "      <td>3.395831</td>\n",
       "      <td>0.620713</td>\n",
       "      <td>1.256735</td>\n",
       "      <td>2.153989</td>\n",
       "      <td>2</td>\n",
       "    </tr>\n",
       "    <tr>\n",
       "      <th>...</th>\n",
       "      <td>...</td>\n",
       "      <td>...</td>\n",
       "      <td>...</td>\n",
       "      <td>...</td>\n",
       "      <td>...</td>\n",
       "    </tr>\n",
       "    <tr>\n",
       "      <th>18192.0</th>\n",
       "      <td>0.133832</td>\n",
       "      <td>-0.824231</td>\n",
       "      <td>-0.143835</td>\n",
       "      <td>2.429722</td>\n",
       "      <td>2</td>\n",
       "    </tr>\n",
       "    <tr>\n",
       "      <th>18194.0</th>\n",
       "      <td>0.153838</td>\n",
       "      <td>-0.824231</td>\n",
       "      <td>0.059922</td>\n",
       "      <td>2.490883</td>\n",
       "      <td>2</td>\n",
       "    </tr>\n",
       "    <tr>\n",
       "      <th>18204.0</th>\n",
       "      <td>1.439441</td>\n",
       "      <td>0.139065</td>\n",
       "      <td>0.454919</td>\n",
       "      <td>1.298992</td>\n",
       "      <td>2</td>\n",
       "    </tr>\n",
       "    <tr>\n",
       "      <th>18259.0</th>\n",
       "      <td>1.874211</td>\n",
       "      <td>0.139065</td>\n",
       "      <td>0.116946</td>\n",
       "      <td>1.742055</td>\n",
       "      <td>2</td>\n",
       "    </tr>\n",
       "    <tr>\n",
       "      <th>18287.0</th>\n",
       "      <td>1.242263</td>\n",
       "      <td>0.139065</td>\n",
       "      <td>0.723350</td>\n",
       "      <td>1.098053</td>\n",
       "      <td>2</td>\n",
       "    </tr>\n",
       "  </tbody>\n",
       "</table>\n",
       "<p>271 rows × 5 columns</p>\n",
       "</div>"
      ],
      "text/plain": [
       "            TotalSales  OrderCount  TotalItems  AvgOrderValue  Cluster\n",
       "CustomerID                                                            \n",
       "12349.0       1.141758   -0.824231    0.059227       5.511178        2\n",
       "12354.0       0.286903   -0.824231   -0.011011       2.897694        2\n",
       "12356.0       2.470246    0.139065    0.726827       2.349460        2\n",
       "12360.0       2.281955    0.139065    0.430579       2.157577        2\n",
       "12370.0       3.395831    0.620713    1.256735       2.153989        2\n",
       "...                ...         ...         ...            ...      ...\n",
       "18192.0       0.133832   -0.824231   -0.143835       2.429722        2\n",
       "18194.0       0.153838   -0.824231    0.059922       2.490883        2\n",
       "18204.0       1.439441    0.139065    0.454919       1.298992        2\n",
       "18259.0       1.874211    0.139065    0.116946       1.742055        2\n",
       "18287.0       1.242263    0.139065    0.723350       1.098053        2\n",
       "\n",
       "[271 rows x 5 columns]"
      ]
     },
     "execution_count": 367,
     "metadata": {},
     "output_type": "execute_result"
    }
   ],
   "source": [
    "high_value_cluster_number =  2  #(1 point)\n",
    "\n",
    "# filter to get the customers in the high value cluster\n",
    "high_value_cluster = cluster_df[cluster_df['Cluster'] == 2]\n",
    "# identify the most commonly purchased items  (3 point)\n",
    "high_value_cluster"
   ]
  },
  {
   "cell_type": "markdown",
   "metadata": {
    "id": "wrSlZIn6Kbpw"
   },
   "source": [
    "## Inform Strategy (6 points)\n",
    "Now that you have a better understanding of customers' purchase behaviour, how would you change your practices?\n",
    "\n",
    "Write 1-2 sentences with a business recommendation (this can cover marketing, operations,  etc. as long as it refers back to the results of your cluster analysis) for each of the clusters. "
   ]
  },
  {
   "cell_type": "markdown",
   "metadata": {
    "id": "2M6cYUOy10Xi"
   },
   "source": [
    "We should market higher margin expensive products to those in the yellow cluster and mabye market discount items of lower value to those in the purple cluster. Since the customers in blue customers buy less items and less expensive items in general, it would be best to mabye market bundles with better price value than if they were to buy each individual item"
   ]
  },
  {
   "cell_type": "markdown",
   "metadata": {
    "id": "QeG0KG2PU4Jt"
   },
   "source": [
    "## Collaboration statement (3 points)\n",
    "\n",
    "Include the names of everyone that helped you with this homework and explain how each person helped. Also include the names of everyone you helped, and explain how. Asking for guidance is perfectly fine, but please do not ask for or  share exact solutions. You should leave any discussion of the assignment and go write up your solutions on your own. \n",
    "\n",
    "If you do not submit a collaboration statement you will receive 0/3 for this section. "
   ]
  },
  {
   "cell_type": "markdown",
   "metadata": {
    "id": "y6YEQGTi118i"
   },
   "source": [
    "Did not recieve help from anyone and I will be seeking your guidance in terms of how to print out the items for the clusters"
   ]
  },
  {
   "cell_type": "markdown",
   "metadata": {
    "id": "OZrltZRoVAX4"
   },
   "source": [
    "## Preparing for submission\n",
    "\n",
    "To convert your notebook to html, change the string below to reflect the location of the notebook in your Google Drive. "
   ]
  },
  {
   "cell_type": "code",
   "execution_count": null,
   "metadata": {
    "id": "7rGVofznVH9S"
   },
   "outputs": [],
   "source": [
    "path_to_file = '/content/drive/My Drive/somepath/PA2-market-segmentation.ipynb'"
   ]
  },
  {
   "cell_type": "markdown",
   "metadata": {
    "id": "6QjLz9ITVKD6"
   },
   "source": [
    "Now execute the code cell below. After execution there should be an html file in the same Google Drive folder  where this notebook is located. Download the html file, open with your browser and print to pdf, then submit the pdf on the course page along with your notebook. \n",
    "\n",
    "**NOTE:** this seems to fail if your path contains spaces - move it to a location without spaces and try again. "
   ]
  },
  {
   "cell_type": "code",
   "execution_count": null,
   "metadata": {
    "id": "T-lBK_QkVKZI"
   },
   "outputs": [],
   "source": [
    "!apt update\n",
    "!apt install texlive-xetex texlive-fonts-recommended texlive-generic-recommended\n",
    "\n",
    "import re, pathlib, shutil\n",
    "\n",
    "from google.colab import drive\n",
    "drive.mount('/content/drive')"
   ]
  },
  {
   "cell_type": "code",
   "execution_count": null,
   "metadata": {
    "id": "1-OvS2q5w-Ii"
   },
   "outputs": [],
   "source": [
    "nbpath =  pathlib.PosixPath(path_to_file)\n",
    "!jupyter nbconvert \"{nbpath.as_posix()}\" --to html --output \"{nbpath.stem.replace(\" \", \"_\")}\""
   ]
  },
  {
   "cell_type": "markdown",
   "metadata": {
    "id": "nc0Nh6819aGn"
   },
   "source": [
    "*Acknowledgements:* This example makes use of the [UCI MLR dataset on online retail](http://archive.ics.uci.edu/ml/datasets/online+retail). \n",
    "Much of this exercise is based on an exercise in  \"Hands-On Data Science for Marketing\" by Packt  and a treatment of that by Mike Nemke."
   ]
  }
 ],
 "metadata": {
  "colab": {
   "collapsed_sections": [],
   "name": "PA2-market-segmentation.ipynb",
   "provenance": [],
   "toc_visible": true
  },
  "kernelspec": {
   "display_name": "Python 3 (ipykernel)",
   "language": "python",
   "name": "python3"
  },
  "language_info": {
   "codemirror_mode": {
    "name": "ipython",
    "version": 3
   },
   "file_extension": ".py",
   "mimetype": "text/x-python",
   "name": "python",
   "nbconvert_exporter": "python",
   "pygments_lexer": "ipython3",
   "version": "3.9.7"
  }
 },
 "nbformat": 4,
 "nbformat_minor": 1
}
